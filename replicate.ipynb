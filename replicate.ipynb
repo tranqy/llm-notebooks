{
 "cells": [
  {
   "cell_type": "code",
   "execution_count": 4,
   "metadata": {},
   "outputs": [
    {
     "name": "stdout",
     "output_type": "stream",
     "text": [
      "['', ' Sure', ',', ' I', \"'\", 'd', ' be', ' happy', ' to', ' help', ' you', ' with', ' that', '!', '\\n', '\\n', 'The', ' speed', ' of', ' a', ' horse', ' and', ' an', ' e', 'agle', ' are', ' quite', ' different', '.', ' H', 'ors', 'es', ' are', ' terrest', 'rial', ' animals', ' and', ' can', ' run', ' at', ' spe', 'eds', ' of', ' up', ' to', ' ', '4', '5', ' miles', ' per', ' hour', ' (', '7', '2', ' kilom', 'eters', ' per', ' hour', ')', ' when', ' gal', 'lop', 'ing', '.', ' The', ' fast', 'est', ' bre', 'ed', ' of', ' horse', ',', ' the', ' Thor', 'ough', 'bre', 'd', ' race', 'hor', 'se', ',', ' can', ' reach', ' spe', 'eds', ' of', ' up', ' to', ' ', '5', '0', ' miles', ' per', ' hour', ' (', '8', '0', ' kilom', 'eters', ' per', ' hour', ').', '\\n', '\\n', 'E', 'ag', 'les', ',', ' on', ' the', ' other', ' hand', ',', ' are', ' birds', ' and', ' can', ' fly', ' at', ' much', ' faster', ' spe', 'eds', '.', ' The', ' fast', 'est', ' species']\n"
     ]
    }
   ],
   "source": [
    "import replicate\n",
    "\n",
    "deployment = replicate.deployments.get(\"tranqy/llama2\")\n",
    "prediction = deployment.predictions.create(\n",
    "  input={\"prompt\": \"compare the speed of a horse and eagle?\"}\n",
    ")\n",
    "prediction.wait()\n",
    "print(prediction.output)"
   ]
  },
  {
   "cell_type": "code",
   "execution_count": 8,
   "metadata": {},
   "outputs": [
    {
     "ename": "AttributeError",
     "evalue": "'list' object has no attribute 'join'",
     "output_type": "error",
     "traceback": [
      "\u001b[0;31m---------------------------------------------------------------------------\u001b[0m",
      "\u001b[0;31mAttributeError\u001b[0m                            Traceback (most recent call last)",
      "\u001b[1;32m/home/tranqy/projects/ollama-play/replicate.ipynb Cell 2\u001b[0m line \u001b[0;36m8\n\u001b[1;32m      <a href='vscode-notebook-cell://ssh-remote%2Bwiggum/home/tranqy/projects/ollama-play/replicate.ipynb#W1sdnNjb2RlLXJlbW90ZQ%3D%3D?line=3'>4</a>\u001b[0m prediction \u001b[39m=\u001b[39m deployment\u001b[39m.\u001b[39mpredictions\u001b[39m.\u001b[39mcreate(\n\u001b[1;32m      <a href='vscode-notebook-cell://ssh-remote%2Bwiggum/home/tranqy/projects/ollama-play/replicate.ipynb#W1sdnNjb2RlLXJlbW90ZQ%3D%3D?line=4'>5</a>\u001b[0m   \u001b[39minput\u001b[39m\u001b[39m=\u001b[39m{\u001b[39m\"\u001b[39m\u001b[39mprompt\u001b[39m\u001b[39m\"\u001b[39m: \u001b[39m\"\u001b[39m\u001b[39mcompare the speed of a horse and eagle\u001b[39m\u001b[39m\"\u001b[39m}\n\u001b[1;32m      <a href='vscode-notebook-cell://ssh-remote%2Bwiggum/home/tranqy/projects/ollama-play/replicate.ipynb#W1sdnNjb2RlLXJlbW90ZQ%3D%3D?line=5'>6</a>\u001b[0m )\n\u001b[1;32m      <a href='vscode-notebook-cell://ssh-remote%2Bwiggum/home/tranqy/projects/ollama-play/replicate.ipynb#W1sdnNjb2RlLXJlbW90ZQ%3D%3D?line=6'>7</a>\u001b[0m prediction\u001b[39m.\u001b[39mwait()\n\u001b[0;32m----> <a href='vscode-notebook-cell://ssh-remote%2Bwiggum/home/tranqy/projects/ollama-play/replicate.ipynb#W1sdnNjb2RlLXJlbW90ZQ%3D%3D?line=7'>8</a>\u001b[0m \u001b[39mprint\u001b[39m(prediction\u001b[39m.\u001b[39;49moutput\u001b[39m.\u001b[39;49mjoin())\n",
      "\u001b[0;31mAttributeError\u001b[0m: 'list' object has no attribute 'join'"
     ]
    }
   ],
   "source": [
    "import replicate\n",
    "\n",
    "deployment = replicate.deployments.get(\"tranqy/orca\")\n",
    "prediction = deployment.predictions.create(\n",
    "  input={\"prompt\": \"compare the speed of a horse and eagle\"}\n",
    ")\n",
    "prediction.wait()\n",
    "print(prediction.output)"
   ]
  }
 ],
 "metadata": {
  "kernelspec": {
   "display_name": "ollama-local--MYF8Ucm-py3.11",
   "language": "python",
   "name": "python3"
  },
  "language_info": {
   "codemirror_mode": {
    "name": "ipython",
    "version": 3
   },
   "file_extension": ".py",
   "mimetype": "text/x-python",
   "name": "python",
   "nbconvert_exporter": "python",
   "pygments_lexer": "ipython3",
   "version": "3.11.6"
  }
 },
 "nbformat": 4,
 "nbformat_minor": 2
}
