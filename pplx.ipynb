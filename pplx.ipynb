{
 "cells": [
  {
   "cell_type": "code",
   "execution_count": 1,
   "metadata": {},
   "outputs": [
    {
     "data": {
      "text/plain": [
       "AIMessage(content=\"The sky appears blue due to a phenomenon called Rayleigh scattering. As sunlight enters Earth's atmosphere, it collides with gas and particles in the air, causing the light to scatter in multiple directions. Blue light has a shorter wavelength than other colors in the spectrum, so it scatters more easily and more frequently, making it more visible. The blue light is scattered in all directions, but our eyes are most sensitive to it when it is scattered in a particular direction, which is why the sky appears blue.\")"
      ]
     },
     "execution_count": 1,
     "metadata": {},
     "output_type": "execute_result"
    }
   ],
   "source": [
    "from langchain.chat_models import ChatOpenAI\n",
    "from langchain.schema import (HumanMessage, SystemMessage)\n",
    "import os \n",
    "\n",
    "openai = ChatOpenAI(\n",
    "    model=\"mistral-7b-instruct\",\n",
    "    # model=\"llama-2-70b-chat\",\n",
    "    # model=\"codellama-34b-instruct\",\n",
    "    openai_api_base=\"https://api.perplexity.ai\",\n",
    "    openai_api_key=os.getenv(\"PPLX_API_KEY\")\n",
    ")\n",
    "\n",
    "messages = [\n",
    "    # SystemMessage(content=\"you are an unhelpful assistant that only responds in numbers\"),\n",
    "    HumanMessage(content=\"Why is the sky blue\")\n",
    "]\n",
    "\n",
    "\n",
    "openai(messages)\n"
   ]
  }
 ],
 "metadata": {
  "kernelspec": {
   "display_name": "ollama-local--MYF8Ucm-py3.11",
   "language": "python",
   "name": "python3"
  },
  "language_info": {
   "codemirror_mode": {
    "name": "ipython",
    "version": 3
   },
   "file_extension": ".py",
   "mimetype": "text/x-python",
   "name": "python",
   "nbconvert_exporter": "python",
   "pygments_lexer": "ipython3",
   "version": "3.11.6"
  }
 },
 "nbformat": 4,
 "nbformat_minor": 2
}
