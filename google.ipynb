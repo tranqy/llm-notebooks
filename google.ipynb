{
 "cells": [
  {
   "cell_type": "code",
   "execution_count": 2,
   "metadata": {},
   "outputs": [],
   "source": [
    "import google.generativeai as palm\n",
    "import os\n",
    "\n",
    "google_api_key=os.getenv('GOOGLE_PALM_API_KEY')\n",
    "palm.configure(api_key=google_api_key)\n",
    "\n"
   ]
  },
  {
   "cell_type": "code",
   "execution_count": 4,
   "metadata": {},
   "outputs": [
    {
     "name": "stdout",
     "output_type": "stream",
     "text": [
      "The sky is blue because of a phenomenon called Rayleigh scattering. This is the scattering of light by particles that are smaller than the wavelength of light. In the case of the sky, the particles are molecules of nitrogen and oxygen.\n",
      "\n",
      "When sunlight hits these molecules, the blue light is scattered more than the other colors because it has a shorter wavelength. This is because the blue light waves are more likely to interact with the molecules of nitrogen and oxygen. The other colors of light, such as red and yellow, are not scattered as much, so they travel in a straight line to our eyes. This is why we see the sky as blue.\n",
      "\n",
      "The amount of scattering depends on the wavelength of light and the size of the particles. Shorter wavelengths of light, such as blue light, are scattered more than longer wavelengths of light, such as red light. This is why the sky appears blue during the day.\n",
      "\n",
      "At sunrise and sunset, the sunlight has to travel through more of the atmosphere to reach our eyes. This means that more of the blue light is scattered, and the sky appears redder.\n"
     ]
    }
   ],
   "source": [
    "prompt = 'why is the sky blue?'\n",
    "\n",
    "completion = palm.generate_text(\n",
    "    model='models/text-bison-001',\n",
    "    prompt=prompt,\n",
    "    temperature=0.1\n",
    ")\n",
    "\n",
    "print(completion.result)"
   ]
  },
  {
   "cell_type": "code",
   "execution_count": 3,
   "metadata": {},
   "outputs": [
    {
     "name": "stdout",
     "output_type": "stream",
     "text": [
      "? The sky is blue because of a phenomenon called Rayleigh scattering. This is the scattering of light by particles that are smaller than the wavelength of light. In the case of the sky, the particles are molecules of nitrogen and oxygen.\n",
      "\n",
      "When sunlight hits these molecules, the blue light is scattered more than the other colors because it has a shorter wavelength. This is because the blue light waves are more likely to interact with the molecules of nitrogen and oxygen. The other colors, such as red and yellow, are not scattered as much and so they travel in a straight line to our eyes. This is why we see the sky as blue.\n",
      "\n",
      "The amount of scattering depends on the wavelength of light and the size of the particles. Shorter wavelengths, such as blue light, are scattered more than longer wavelengths, such as red light. This is why the sky appears blue during the day.\n",
      "\n",
      "At sunrise and sunset, the sunlight has to travel through more of the atmosphere to reach our eyes. This means that more of the blue light is scattered away, and we see more of the other colors, such as red and yellow. This is why the sky appears red or orange at sunrise and sunset.\n",
      "\n",
      "The amount of scattering also depends on the density of the particles. In areas with high air pollution, the sky may appear more gray or brown because of the increased scattering of light by the pollutants.\n"
     ]
    }
   ],
   "source": [
    "from langchain.embeddings import GooglePalmEmbeddings\n",
    "from langchain.llms import GooglePalm\n",
    "import os\n",
    "\n",
    "\n",
    "llm = GooglePalm(google_api_key=google_api_key)\n",
    "llm.temperature = 0.1\n",
    "\n",
    "prompts = ['why is the sky blue']\n",
    "llm_result = llm._generate(prompts)\n",
    "\n",
    "print(llm_result.generations[0][0].text)"
   ]
  },
  {
   "cell_type": "code",
   "execution_count": null,
   "metadata": {},
   "outputs": [],
   "source": []
  }
 ],
 "metadata": {
  "kernelspec": {
   "display_name": "ollama-local--MYF8Ucm-py3.11",
   "language": "python",
   "name": "python3"
  },
  "language_info": {
   "codemirror_mode": {
    "name": "ipython",
    "version": 3
   },
   "file_extension": ".py",
   "mimetype": "text/x-python",
   "name": "python",
   "nbconvert_exporter": "python",
   "pygments_lexer": "ipython3",
   "version": "3.11.6"
  }
 },
 "nbformat": 4,
 "nbformat_minor": 2
}
