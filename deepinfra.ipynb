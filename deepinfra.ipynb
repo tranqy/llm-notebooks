{
 "cells": [
  {
   "cell_type": "code",
   "execution_count": 1,
   "metadata": {},
   "outputs": [
    {
     "name": "stdout",
     "output_type": "stream",
     "text": [
      " The sky appears blue because of a phenomenon called Rayleigh scattering, which occurs when sunlight interacts with tiny molecules of gases in the Earth's atmosphere.\n",
      "\n",
      "Rayleigh scattering is the process by which light scatters off small particles, such as atoms or molecules, in the atmosphere. When sunlight enters the Earth's atmosphere, it encounters these small particles and is scattered in all directions.\n",
      "\n",
      "The amount of scatter\n"
     ]
    }
   ],
   "source": [
    "import os\n",
    "import openai\n",
    "\n",
    "stream = False # or False\n",
    "\n",
    "# Point OpenAI client to our endpoint\n",
    "openai.api_key = os.getenv(\"DEEP_INFRA_API_KEY\")\n",
    "openai.api_base = \"https://api.deepinfra.com/v1/openai\"\n",
    "\n",
    "\n",
    "MODEL_DI = \"meta-llama/Llama-2-70b-chat-hf\"\n",
    "chat_completion = openai.ChatCompletion.create(\n",
    "    model=MODEL_DI,\n",
    "    messages=[{\"role\": \"user\", \"content\": \"Why is the sky blue?\"}],\n",
    "    stream=stream,\n",
    "    max_tokens=100,\n",
    "    # top_p=0.5,\n",
    ")\n",
    "\n",
    "if stream:\n",
    "    # print the chat completion\n",
    "    for event in chat_completion:\n",
    "        print(event.choices)\n",
    "else:\n",
    "    print(chat_completion.choices[0].message.content)"
   ]
  },
  {
   "cell_type": "code",
   "execution_count": null,
   "metadata": {},
   "outputs": [],
   "source": []
  }
 ],
 "metadata": {
  "kernelspec": {
   "display_name": "ollama-local-B1HCEK4S-py3.11",
   "language": "python",
   "name": "python3"
  },
  "language_info": {
   "codemirror_mode": {
    "name": "ipython",
    "version": 3
   },
   "file_extension": ".py",
   "mimetype": "text/x-python",
   "name": "python",
   "nbconvert_exporter": "python",
   "pygments_lexer": "ipython3",
   "version": "3.11.6"
  }
 },
 "nbformat": 4,
 "nbformat_minor": 2
}
